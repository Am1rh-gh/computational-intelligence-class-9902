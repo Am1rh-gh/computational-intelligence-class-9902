{
  "nbformat": 4,
  "nbformat_minor": 0,
  "metadata": {
    "colab": {
      "name": "PyTorch Introduction.ipynb",
      "provenance": []
    },
    "kernelspec": {
      "name": "python3",
      "display_name": "Python 3"
    },
    "language_info": {
      "name": "python"
    }
  },
  "cells": [
    {
      "cell_type": "code",
      "metadata": {
        "id": "XTviAG92Ti80"
      },
      "source": [
        "import torch"
      ],
      "execution_count": 2,
      "outputs": []
    },
    {
      "cell_type": "code",
      "metadata": {
        "colab": {
          "base_uri": "https://localhost:8080/"
        },
        "id": "Lss3_x6ucNs3",
        "outputId": "0a5882cc-d8f0-499f-a0e8-b79e50fc7b6e"
      },
      "source": [
        "x = torch.rand(1)\n",
        "print(x.item(), x.dtype)"
      ],
      "execution_count": 8,
      "outputs": [
        {
          "output_type": "stream",
          "text": [
            "0.45998096466064453 torch.float32\n"
          ],
          "name": "stdout"
        }
      ]
    },
    {
      "cell_type": "code",
      "metadata": {
        "colab": {
          "base_uri": "https://localhost:8080/"
        },
        "id": "X7mJnYX4eE8q",
        "outputId": "44c87e88-f8af-4859-acbd-12b28e869c55"
      },
      "source": [
        "x = torch.ones(2, 2, dtype=torch.float16)\n",
        "print(x, x.size())"
      ],
      "execution_count": 12,
      "outputs": [
        {
          "output_type": "stream",
          "text": [
            "tensor([[1., 1.],\n",
            "        [1., 1.]], dtype=torch.float16) torch.Size([2, 2])\n"
          ],
          "name": "stdout"
        }
      ]
    },
    {
      "cell_type": "code",
      "metadata": {
        "colab": {
          "base_uri": "https://localhost:8080/"
        },
        "id": "1EkOkTD2fDLC",
        "outputId": "6fa41886-95cf-4ee7-cb39-57ec1f317460"
      },
      "source": [
        "torch.cuda.is_available()"
      ],
      "execution_count": 15,
      "outputs": [
        {
          "output_type": "execute_result",
          "data": {
            "text/plain": [
              "False"
            ]
          },
          "metadata": {
            "tags": []
          },
          "execution_count": 15
        }
      ]
    },
    {
      "cell_type": "code",
      "metadata": {
        "colab": {
          "base_uri": "https://localhost:8080/"
        },
        "id": "XhhpEzMgfPLx",
        "outputId": "218b2345-be4b-456c-c6ec-cd5479d86971"
      },
      "source": [
        "x = torch.ones(2, 2)\n",
        "y = torch.rand(2, 2)\n",
        "print(x)\n",
        "print()\n",
        "print(y)\n",
        "print()\n",
        "x.add_(y)\n",
        "y = torch.mul(x, x)\n",
        "print(y)"
      ],
      "execution_count": 22,
      "outputs": [
        {
          "output_type": "stream",
          "text": [
            "tensor([[1., 1.],\n",
            "        [1., 1.]])\n",
            "\n",
            "tensor([[0.5873, 0.3598],\n",
            "        [0.8591, 0.2256]])\n",
            "\n",
            "tensor([[2.5196, 1.8491],\n",
            "        [3.4564, 1.5020]])\n"
          ],
          "name": "stdout"
        }
      ]
    },
    {
      "cell_type": "code",
      "metadata": {
        "colab": {
          "base_uri": "https://localhost:8080/"
        },
        "id": "ensK6zoZfmRy",
        "outputId": "ffdc254c-965e-449e-91d3-4820ac07a4c7"
      },
      "source": [
        "x = torch.rand(20)\n",
        "print(x.size())\n",
        "x = x.view(-1, 5)\n",
        "print()\n",
        "print(x)\n",
        "print(x.size())"
      ],
      "execution_count": 27,
      "outputs": [
        {
          "output_type": "stream",
          "text": [
            "torch.Size([20])\n",
            "\n",
            "tensor([[0.0709, 0.5539, 0.2188, 0.3548, 0.9830],\n",
            "        [0.1393, 0.7873, 0.0581, 0.7974, 0.8430],\n",
            "        [0.1059, 0.7763, 0.4861, 0.0822, 0.8532],\n",
            "        [0.2878, 0.1188, 0.0562, 0.5184, 0.3845]])\n",
            "torch.Size([4, 5])\n"
          ],
          "name": "stdout"
        }
      ]
    },
    {
      "cell_type": "code",
      "metadata": {
        "colab": {
          "base_uri": "https://localhost:8080/"
        },
        "id": "5xpSeaGKgRJB",
        "outputId": "de1ed5c8-d057-4622-cf83-2f61e23278ad"
      },
      "source": [
        "print(x[:, 0])\n",
        "print(x[2, :])"
      ],
      "execution_count": 35,
      "outputs": [
        {
          "output_type": "stream",
          "text": [
            "tensor([0.0709, 0.1393, 0.1059, 0.2878])\n",
            "tensor([0.1059, 0.7763, 0.4861, 0.0822, 0.8532])\n"
          ],
          "name": "stdout"
        }
      ]
    },
    {
      "cell_type": "code",
      "metadata": {
        "colab": {
          "base_uri": "https://localhost:8080/"
        },
        "id": "-pv8OqdMgyuy",
        "outputId": "292cb406-dfce-4f0d-b5c5-b35b93963731"
      },
      "source": [
        "rows = list(x.size())[0]\n",
        "columns = list(x.size())[1]\n",
        "print(rows, columns)\n",
        "print(x[rows - 1][columns - 1].item())"
      ],
      "execution_count": 42,
      "outputs": [
        {
          "output_type": "stream",
          "text": [
            "4 5\n",
            "0.3844839930534363\n"
          ],
          "name": "stdout"
        }
      ]
    },
    {
      "cell_type": "code",
      "metadata": {
        "colab": {
          "base_uri": "https://localhost:8080/"
        },
        "id": "-Z9DWWv5hT8R",
        "outputId": "41b9584d-8dc8-4531-92b8-2c402ea14128"
      },
      "source": [
        "x = torch.rand(2)\n",
        "print(x, type(x))\n",
        "x = x.numpy()\n",
        "print(x, type(x))"
      ],
      "execution_count": 46,
      "outputs": [
        {
          "output_type": "stream",
          "text": [
            "tensor([0.4779, 0.3553]) <class 'torch.Tensor'>\n",
            "[0.4778831 0.3553477] <class 'numpy.ndarray'>\n"
          ],
          "name": "stdout"
        }
      ]
    },
    {
      "cell_type": "code",
      "metadata": {
        "colab": {
          "base_uri": "https://localhost:8080/"
        },
        "id": "4iCum1E9h2PB",
        "outputId": "e69000c9-5bb6-486f-9890-600f8f105228"
      },
      "source": [
        "import numpy as np\n",
        "\n",
        "x = np.ones([2, 2])\n",
        "print(x, type(x))\n",
        "y = torch.from_numpy(x)\n",
        "print(y, type(y))"
      ],
      "execution_count": 50,
      "outputs": [
        {
          "output_type": "stream",
          "text": [
            "[[1. 1.]\n",
            " [1. 1.]] <class 'numpy.ndarray'>\n",
            "tensor([[1., 1.],\n",
            "        [1., 1.]], dtype=torch.float64) <class 'torch.Tensor'>\n"
          ],
          "name": "stdout"
        }
      ]
    },
    {
      "cell_type": "code",
      "metadata": {
        "colab": {
          "base_uri": "https://localhost:8080/"
        },
        "id": "Id4UEqtYiFKK",
        "outputId": "069856c6-2f35-4e8a-d6b8-b37296df1445"
      },
      "source": [
        "x = torch.rand(3, requires_grad=True)\n",
        "y = torch.rand(3)\n",
        "z = torch.mul(x, y)\n",
        "z.add_(1)\n",
        "print(z)"
      ],
      "execution_count": 59,
      "outputs": [
        {
          "output_type": "stream",
          "text": [
            "tensor([1.1422, 1.0678, 1.2852], grad_fn=<AddBackward0>)\n"
          ],
          "name": "stdout"
        }
      ]
    },
    {
      "cell_type": "code",
      "metadata": {
        "colab": {
          "base_uri": "https://localhost:8080/"
        },
        "id": "eAUvWhpZkN2B",
        "outputId": "9b10e71f-307b-4008-c1b0-a04a52fd744c"
      },
      "source": [
        "x, y = torch.tensor(1), torch.tensor(2)\n",
        "w = torch.ones(1, requires_grad = True)\n",
        "print(x, y, w)\n",
        "print('=' * 50)\n",
        "for epoch in range(5):\n",
        "  y_hat = x * w\n",
        "  loss = (y_hat - y) ** 2\n",
        "  loss.backward()\n",
        "  print(w, w.grad)\n",
        "  with torch.no_grad():\n",
        "    w.add_(w.grad)\n",
        "  w.grad.zero_()"
      ],
      "execution_count": 68,
      "outputs": [
        {
          "output_type": "stream",
          "text": [
            "tensor(1) tensor(2) tensor([1.], requires_grad=True)\n",
            "==================================================\n",
            "tensor([1.], requires_grad=True) tensor([-2.])\n",
            "tensor([-1.], requires_grad=True) tensor([-6.])\n",
            "tensor([-7.], requires_grad=True) tensor([-18.])\n",
            "tensor([-25.], requires_grad=True) tensor([-54.])\n",
            "tensor([-79.], requires_grad=True) tensor([-162.])\n"
          ],
          "name": "stdout"
        }
      ]
    },
    {
      "cell_type": "code",
      "metadata": {
        "id": "tQy2ceeNk7wo"
      },
      "source": [
        ""
      ],
      "execution_count": null,
      "outputs": []
    }
  ]
}