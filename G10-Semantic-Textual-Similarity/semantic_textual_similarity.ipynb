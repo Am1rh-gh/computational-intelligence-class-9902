{
  "nbformat": 4,
  "nbformat_minor": 0,
  "metadata": {
    "colab": {
      "name": "Copy of semantic-textual-similarity.ipynb",
      "provenance": [],
      "collapsed_sections": []
    },
    "kernelspec": {
      "display_name": "Python 3",
      "name": "python3"
    },
    "language_info": {
      "name": "python"
    }
  },
  "cells": [
    {
      "cell_type": "markdown",
      "metadata": {
        "id": "1DLo8MLMAag5"
      },
      "source": [
        "<a href=\"https://colab.research.google.com/github/farbodnm/computational-intelligence-class-9902/blob/main/G10-Semantic-Textual-Similarity/semantic_textual_similarity.ipynb\" target=\"_parent\"><img src=\"https://colab.research.google.com/assets/colab-badge.svg\" alt=\"Open In Colab\"/></a>\n"
      ]
    },
    {
      "cell_type": "markdown",
      "metadata": {
        "id": "hQMEf719zpO4"
      },
      "source": [
        "# Clone from github\n",
        "Clones github repo and moves them for imports."
      ]
    },
    {
      "cell_type": "code",
      "metadata": {
        "id": "JJlLhRi220MX",
        "colab": {
          "base_uri": "https://localhost:8080/"
        },
        "outputId": "0e8387a3-27ef-41ea-8e88-08bc80553655"
      },
      "source": [
        "!git clone https://github.com/farbodnm/computational-intelligence-class-9902.git\n",
        "!mv -v /content/computational-intelligence-class-9902/G10-Semantic-Textual-Similarity/* .\n",
        "!rm -R /content/computational-intelligence-class-9902"
      ],
      "execution_count": 1,
      "outputs": [
        {
          "output_type": "stream",
          "text": [
            "Cloning into 'computational-intelligence-class-9902'...\n",
            "remote: Enumerating objects: 345, done.\u001b[K\n",
            "remote: Counting objects: 100% (345/345), done.\u001b[K\n",
            "remote: Compressing objects: 100% (283/283), done.\u001b[K\n",
            "remote: Total 345 (delta 133), reused 106 (delta 42), pack-reused 0\u001b[K\n",
            "Receiving objects: 100% (345/345), 2.00 MiB | 5.27 MiB/s, done.\n",
            "Resolving deltas: 100% (133/133), done.\n",
            "mv: cannot move '/content/computational-intelligence-class-9902/G10-Semantic-Textual-Similarity/data' to './data': Directory not empty\n",
            "renamed '/content/computational-intelligence-class-9902/G10-Semantic-Textual-Similarity/README.md' -> './README.md'\n",
            "renamed '/content/computational-intelligence-class-9902/G10-Semantic-Textual-Similarity/semantic_textual_similarity.ipynb' -> './semantic_textual_similarity.ipynb'\n",
            "mv: cannot move '/content/computational-intelligence-class-9902/G10-Semantic-Textual-Similarity/utils' to './utils': Directory not empty\n"
          ],
          "name": "stdout"
        }
      ]
    },
    {
      "cell_type": "markdown",
      "metadata": {
        "id": "J-N7Nvns0CFr"
      },
      "source": [
        "# Config\n",
        "Our config for the neural network."
      ]
    },
    {
      "cell_type": "code",
      "metadata": {
        "id": "0ezh3YdnmfAT"
      },
      "source": [
        "config = {\n",
        "    'model':{\n",
        "        'name': 'siamese',\n",
        "        'embed_size': 300,\n",
        "        'batch_size': 1,\n",
        "        'fc_dim': 100,\n",
        "        'embed_mode': 'word',\n",
        "        'learning_rate': 0.00001,\n",
        "        'epochs': 10,\n",
        "        'loss_mode': 'cel',\n",
        "        'optimizer_mode': 'adam',\n",
        "        'encoder':{\n",
        "            'hidden_size': 150,\n",
        "            'num_layers': 1,\n",
        "            'bidirectional': False,\n",
        "            'dropout': 0.0,\n",
        "        },  \n",
        "    },\n",
        "    'embed_path': './embed.pkl'\n",
        "}"
      ],
      "execution_count": 2,
      "outputs": []
    },
    {
      "cell_type": "markdown",
      "metadata": {
        "id": "pK196FAi0mus"
      },
      "source": [
        "# Imports"
      ]
    },
    {
      "cell_type": "code",
      "metadata": {
        "id": "GHJ0z2IbnCPW"
      },
      "source": [
        "import torch\n",
        "from torch.autograd import Variable\n",
        "import torch.nn as nn\n",
        "import torch.nn.functional as F\n",
        "from torch.autograd import Variable\n",
        "import numpy as np\n",
        "\n",
        "from utils.tokenizer import reset_word_embedding, reset_char_embedding, load_wordvec, load_charvec, save_vec, change_weights_of_mother\n",
        "from utils.model import Siamese\n",
        "from utils.vocabulary import vocabulary, add_to_vocabulary\n",
        "from data.prepare_data import Dataset"
      ],
      "execution_count": 3,
      "outputs": []
    },
    {
      "cell_type": "markdown",
      "metadata": {
        "id": "YyAX4C4t0rtJ"
      },
      "source": [
        "# Data processing.\n",
        "First we start by making a vocabulary of the words in all our sentences.\n",
        "\n",
        "\n",
        "> then we make a vector dictionary for our vocabulary.\n",
        "\n",
        "\n",
        "\n"
      ]
    },
    {
      "cell_type": "code",
      "metadata": {
        "id": "0h_grIhXtM_U",
        "colab": {
          "base_uri": "https://localhost:8080/"
        },
        "outputId": "e35340be-2a66-47e1-8976-3a6466804fa5"
      },
      "source": [
        "embed_path = config['embed_path']\n",
        "reset_word_embedding(embed_path)\n",
        "data = Dataset('/content/data/snli_1.0.txt', config)\n",
        "vocab = vocabulary(data.train_set_pairs())\n",
        "vocab = add_to_vocabulary(data.validation_set_pairs(), vocab)\n",
        "vocab = add_to_vocabulary(data.test_set_pairs(), vocab)\n",
        "vectors = load_wordvec(vocab, embed_path)\n",
        "if len(vectors) == len(vocab):\n",
        "  vocab_size = len(vectors)\n",
        "else:\n",
        "  print('Something is wrong and I can feel it.')"
      ],
      "execution_count": 4,
      "outputs": [
        {
          "output_type": "stream",
          "text": [
            "Dictionary file created.\n",
            "Made a vocabulary of 11565 words.\n",
            "Made a vocabulary with a total of 12645 words.\n",
            "Made a vocabulary with a total of 13446 words.\n",
            "Loaded 1 already embedded words.\n",
            "Added 13446 new words to the embedding.\n",
            "Loaded 13446 words to our current dictionary\n",
            "Embeddings saved\n"
          ],
          "name": "stdout"
        }
      ]
    },
    {
      "cell_type": "markdown",
      "metadata": {
        "id": "keMnMakcEug-"
      },
      "source": [
        "# Make an embedding\n",
        "Make a weight embedding ordered in the same way our vocabulary is."
      ]
    },
    {
      "cell_type": "code",
      "metadata": {
        "id": "uuy2T6yX2cv1"
      },
      "source": [
        "weights = []\n",
        "for word in vocab:\n",
        "    weights.append(vectors[word])\n",
        "embedding = nn.Embedding(vocab_size, config['model']['embed_size'])\n",
        "weights_matrix = torch.from_numpy(np.array(weights)).type(torch.FloatTensor)\n",
        "embedding.weight = nn.Parameter(weights_matrix, requires_grad = False)\n",
        "\n",
        "config['vocab'] = vocab\n",
        "config['embedding'] = embedding"
      ],
      "execution_count": 5,
      "outputs": []
    },
    {
      "cell_type": "markdown",
      "metadata": {
        "id": "SR2pxwuMy9bh"
      },
      "source": [
        "Ready our model, loss and optimizer\n"
      ]
    },
    {
      "cell_type": "code",
      "metadata": {
        "id": "Tbdpe_HYFDWH",
        "colab": {
          "base_uri": "https://localhost:8080/"
        },
        "outputId": "22208cb6-62de-4af8-9c67-b9ce1efb37ed"
      },
      "source": [
        "siamese = Siamese(config)\n",
        "\n",
        "if config['model']['loss_mode'] == 'cel':\n",
        "  #variable_weight = Variable(torch.FloatTensor([1, 1.125]))\n",
        "  #variable_weight = variable_weight.cuda()\n",
        "  #loss_mode = torch.nn.CrossEntropyLoss(variable_weight)\n",
        "  loss_mode = torch.nn.CrossEntropyLoss()\n",
        "  print('Using CrossEntropyLoss loss,')\n",
        "elif config['model']['loss_mode'] == 'mse':\n",
        "  loss_mode = torch.nn.MSELoss()\n",
        "  print('Using MeanSquaredError loss,')\n",
        "\n",
        "learning_rate = config['model']['learning_rate']\n",
        "if config['model']['optimizer_mode'] == 'sgd':\n",
        "  optimizer = torch.optim.SGD(filter(lambda x: x.requires_grad, siamese.parameters()), lr=learning_rate)\n",
        "  print('and sgd optimizer.')\n",
        "elif config['model']['optimizer_mode'] == 'adam':\n",
        "  optimizer = torch.optim.Adam(filter(lambda x: x.requires_grad, siamese.parameters()), lr=learning_rate)\n",
        "  print('and adam optimizer.')"
      ],
      "execution_count": 6,
      "outputs": [
        {
          "output_type": "stream",
          "text": [
            "Using CrossEntropyLoss loss,\n",
            "and adam optimizer.\n"
          ],
          "name": "stdout"
        }
      ]
    },
    {
      "cell_type": "markdown",
      "metadata": {
        "id": "_mKXe1mYzEeS"
      },
      "source": [
        "# Start our training\n",
        "Each epoch we train the model and then use the validation dataset to see our progress.\n",
        "\n"
      ]
    },
    {
      "cell_type": "code",
      "metadata": {
        "id": "XK8mC7nnkzBq",
        "colab": {
          "base_uri": "https://localhost:8080/"
        },
        "outputId": "372eec58-5c9b-43fe-8499-851354b8cade"
      },
      "source": [
        "current_epoch = 1\n",
        "epoch_num = config['model']['epochs']\n",
        "\n",
        "train_loss_epochs = []\n",
        "validation_loss_epochs = []\n",
        "\n",
        "while current_epoch <= epoch_num:\n",
        "\n",
        "  train_loss = []\n",
        "  train_loss_all = []\n",
        "  validation_loss_all = []\n",
        "\n",
        "  print('Starting epoch', current_epoch)\n",
        "\n",
        "  for i in range(int(data.train_set_num())):\n",
        "    sentence1 = data.train_set_pairs()[i][0]\n",
        "    sentence2 = data.train_set_pairs()[i][1]\n",
        "    score = data.train_set_scores()[i]\n",
        "\n",
        "    output = siamese(sentence1, sentence2)\n",
        "\n",
        "    optimizer.zero_grad()\n",
        "\n",
        "    if config['model']['loss_mode'] == 'cel':\n",
        "      score = torch.tensor([score]).long()\n",
        "      output = output.squeeze(0)\n",
        "\n",
        "    elif config['model']['loss_mode'] == 'mse':\n",
        "      score = Variable(torch.tensor(score).type(torch.FloatTensor))\n",
        "      output = output.squeeze(0).squeeze(0).squeeze(0)\n",
        "\n",
        "    #score = score.cuda()\n",
        "    #output = output.cuda()\n",
        "    \n",
        "    loss = loss_mode(output, score)\n",
        "    loss.backward()\n",
        "    optimizer.step()\n",
        "\n",
        "    train_loss.append(loss.data)\n",
        "    train_loss_all.append(loss.data)\n",
        "    #train_loss.append(loss.data.cpu())\n",
        "    #train_loss_all.append(loss.data.cpu())\n",
        "\n",
        "    if ((i + 1) % 2500) == 0:\n",
        "      print(i + 1, 'sentence pairs done, epoch:', current_epoch, 'and current loss:', np.mean(train_loss))\n",
        "      train_loss = []\n",
        "\n",
        "  for j in range(int(data.validation_set_num())):\n",
        "    sentence1 = data.validation_set_pairs()[j][0]\n",
        "    sentence2 = data.validation_set_pairs()[j][1]\n",
        "    score = data.validation_set_scores()[j]\n",
        "\n",
        "    output = siamese(sentence1, sentence2)\n",
        "\n",
        "    optimizer.zero_grad()\n",
        "\n",
        "    if config['model']['loss_mode'] == 'cel':\n",
        "      score = torch.tensor([score]).long()\n",
        "      output = output.squeeze(0)\n",
        "\n",
        "    elif config['model']['loss_mode'] == 'mse':\n",
        "      score = Variable(torch.tensor(score).type(torch.FloatTensor))\n",
        "      output = output.squeeze(0).squeeze(0).squeeze(0)\n",
        "\n",
        "    #score = score.cuda()\n",
        "    #output = output.cuda()\n",
        "\n",
        "    loss = loss_mode(output, score)\n",
        "\n",
        "    validation_loss_all.append(loss.data)\n",
        "    #validation_loss_all.append(loss.data.cpu())\n",
        "    \n",
        "  print('Epoch', current_epoch, 'train loss:', np.mean(train_loss_all), 'validation loss:', np.mean(validation_loss_all))\n",
        "  train_loss_epochs.append(np.mean(train_loss_all))\n",
        "  validation_loss_epochs.append(np.mean(validation_loss_all))\n",
        "  print()\n",
        "\n",
        "  current_epoch += 1"
      ],
      "execution_count": 7,
      "outputs": [
        {
          "output_type": "stream",
          "text": [
            "Starting epoch 1\n",
            "2500 sentence pairs done, epoch: 1 and current loss: 1.0981838\n",
            "5000 sentence pairs done, epoch: 1 and current loss: 1.0935551\n",
            "7500 sentence pairs done, epoch: 1 and current loss: 1.0917218\n",
            "10000 sentence pairs done, epoch: 1 and current loss: 1.0864488\n",
            "Epoch 1 train loss: 1.0908859 validation loss: 1.078928\n",
            "\n",
            "Starting epoch 2\n",
            "2500 sentence pairs done, epoch: 2 and current loss: 1.0690002\n",
            "5000 sentence pairs done, epoch: 2 and current loss: 1.0610868\n",
            "7500 sentence pairs done, epoch: 2 and current loss: 1.0558147\n",
            "10000 sentence pairs done, epoch: 2 and current loss: 1.0493039\n",
            "Epoch 2 train loss: 1.0560466 validation loss: 1.045275\n",
            "\n",
            "Starting epoch 3\n",
            "2500 sentence pairs done, epoch: 3 and current loss: 1.023723\n",
            "5000 sentence pairs done, epoch: 3 and current loss: 1.0143079\n",
            "7500 sentence pairs done, epoch: 3 and current loss: 1.011267\n",
            "10000 sentence pairs done, epoch: 3 and current loss: 1.0111772\n",
            "Epoch 3 train loss: 1.013719 validation loss: 1.021157\n",
            "\n",
            "Starting epoch 4\n",
            "2500 sentence pairs done, epoch: 4 and current loss: 0.9860243\n",
            "5000 sentence pairs done, epoch: 4 and current loss: 0.9802287\n",
            "7500 sentence pairs done, epoch: 4 and current loss: 0.9767719\n",
            "10000 sentence pairs done, epoch: 4 and current loss: 0.98118836\n",
            "Epoch 4 train loss: 0.98075986 validation loss: 1.0104891\n",
            "\n",
            "Starting epoch 5\n",
            "2500 sentence pairs done, epoch: 5 and current loss: 0.951988\n",
            "5000 sentence pairs done, epoch: 5 and current loss: 0.9477674\n",
            "7500 sentence pairs done, epoch: 5 and current loss: 0.945691\n",
            "10000 sentence pairs done, epoch: 5 and current loss: 0.95235115\n",
            "Epoch 5 train loss: 0.9506962 validation loss: 1.0068799\n",
            "\n",
            "Starting epoch 6\n",
            "2500 sentence pairs done, epoch: 6 and current loss: 0.9247543\n",
            "5000 sentence pairs done, epoch: 6 and current loss: 0.917173\n",
            "7500 sentence pairs done, epoch: 6 and current loss: 0.92435724\n",
            "10000 sentence pairs done, epoch: 6 and current loss: 0.9290192\n",
            "Epoch 6 train loss: 0.9259569 validation loss: 1.006146\n",
            "\n",
            "Starting epoch 7\n",
            "2500 sentence pairs done, epoch: 7 and current loss: 0.89811796\n",
            "5000 sentence pairs done, epoch: 7 and current loss: 0.8928772\n",
            "7500 sentence pairs done, epoch: 7 and current loss: 0.89399236\n",
            "10000 sentence pairs done, epoch: 7 and current loss: 0.90616494\n",
            "Epoch 7 train loss: 0.9001807 validation loss: 1.0049157\n",
            "\n",
            "Starting epoch 8\n",
            "2500 sentence pairs done, epoch: 8 and current loss: 0.8709946\n",
            "5000 sentence pairs done, epoch: 8 and current loss: 0.86743945\n",
            "7500 sentence pairs done, epoch: 8 and current loss: 0.87060314\n",
            "10000 sentence pairs done, epoch: 8 and current loss: 0.88139665\n",
            "Epoch 8 train loss: 0.87423015 validation loss: 1.0103371\n",
            "\n",
            "Starting epoch 9\n",
            "2500 sentence pairs done, epoch: 9 and current loss: 0.8415428\n",
            "5000 sentence pairs done, epoch: 9 and current loss: 0.8418516\n",
            "7500 sentence pairs done, epoch: 9 and current loss: 0.8432467\n",
            "10000 sentence pairs done, epoch: 9 and current loss: 0.8414094\n",
            "Epoch 9 train loss: 0.84588176 validation loss: 1.0162907\n",
            "\n",
            "Starting epoch 10\n",
            "2500 sentence pairs done, epoch: 10 and current loss: 0.8120573\n",
            "5000 sentence pairs done, epoch: 10 and current loss: 0.8103827\n",
            "7500 sentence pairs done, epoch: 10 and current loss: 0.8170493\n",
            "10000 sentence pairs done, epoch: 10 and current loss: 0.8205916\n",
            "Epoch 10 train loss: 0.8184881 validation loss: 1.0202507\n",
            "\n"
          ],
          "name": "stdout"
        }
      ]
    },
    {
      "cell_type": "markdown",
      "metadata": {
        "id": "V9c5gKj_2xlv"
      },
      "source": [
        "And a train and test loss graph."
      ]
    },
    {
      "cell_type": "code",
      "metadata": {
        "id": "jfO3UX--UxnK",
        "colab": {
          "base_uri": "https://localhost:8080/",
          "height": 295
        },
        "outputId": "d2c8f12e-4882-4d7d-a419-7886091fd1a4"
      },
      "source": [
        "import matplotlib.pyplot as plt\n",
        "\n",
        "plt.title('Loss Graph')\n",
        "plt.xlabel('Epochs')\n",
        "plt.ylabel('Loss')\n",
        "plt.plot(train_loss_epochs, '-.', color ='blue')\n",
        "plt.plot(validation_loss_epochs, '-.', color ='red')\n",
        "plt.legend(['train loss', 'validation loss'], loc ='upper right')\n",
        "plt.show()"
      ],
      "execution_count": 8,
      "outputs": [
        {
          "output_type": "display_data",
          "data": {
            "image/png": "[encoded data removed]",
            "text/plain": [
              "<Figure size 432x288 with 1 Axes>"
            ]
          },
          "metadata": {
            "tags": [],
            "needs_background": "light"
          }
        }
      ]
    },
    {
      "cell_type": "markdown",
      "metadata": {
        "id": "D38yiEc83mDk"
      },
      "source": [
        "And at the end we make a csv from the test set with our output."
      ]
    },
    {
      "cell_type": "code",
      "metadata": {
        "colab": {
          "base_uri": "https://localhost:8080/"
        },
        "id": "PqKc7dN25mIa",
        "outputId": "05e7c54a-f4c0-4efa-a37a-9e46052b3044"
      },
      "source": [
        "import pandas as pd\n",
        "\n",
        "csv_data = []\n",
        "loss_all = []\n",
        "for j in range(data.test_set_num()):\n",
        "    sentence1 = data.test_set_pairs()[j][0]\n",
        "    sentence2 = data.test_set_pairs()[j][1]\n",
        "    score = data.test_set_scores()[j]\n",
        "\n",
        "    output = siamese(sentence1, sentence2)\n",
        "\n",
        "    if config['model']['loss_mode'] == 'cel':\n",
        "      score = torch.tensor([score]).long()\n",
        "      output = output.squeeze(0)\n",
        "\n",
        "    elif config['model']['loss_mode'] == 'mse':\n",
        "      score = Variable(torch.tensor(score).type(torch.FloatTensor))\n",
        "      output = output.squeeze(0).squeeze(0).squeeze(0)\n",
        "\n",
        "    loss = loss_mode(output, score)\n",
        "\n",
        "    loss_all.append(loss.data)\n",
        "\n",
        "    if config['model']['loss_mode'] == 'cel':\n",
        "      output = output.squeeze(0)\n",
        "      softmax = nn.Softmax(dim = 0)\n",
        "      output = softmax(output)\n",
        "      if score.item() == 0:\n",
        "        output = output[1]\n",
        "      elif score.item() == 1:\n",
        "        output = output[1] * 1\n",
        "      elif score.item() == 2:\n",
        "        output = output[2] * 2\n",
        "\n",
        "    csv_data.append([sentence1, sentence2, score.item(), output.item(), loss.item()])\n",
        "\n",
        "print('Test loss at the end of the training:', np.mean(loss_all))\n",
        "print()\n",
        "df = pd.DataFrame(csv_data, columns = ['sentence 1', 'sentence 2', 'score', 'predicted score', 'loss'])\n",
        "df.to_csv('./results.csv', index=False)\n",
        "print(df)\n",
        "print('Results saved in a csv file, Cheers.')"
      ],
      "execution_count": 9,
      "outputs": [
        {
          "output_type": "stream",
          "text": [
            "Test loss at the end of the training: 1.0325031\n",
            "\n",
            "                                             sentence 1  ...      loss\n",
            "0                                         Two dogs play  ...  2.673653\n",
            "1     A race car speeds away while a man covers his ...  ...  1.160121\n",
            "2                       The dog is walking in the snow.  ...  0.803104\n",
            "3     Three women and two men are standing at the fo...  ...  0.926562\n",
            "4               A young woman with colorful clothes on.  ...  1.241744\n",
            "...                                                 ...  ...       ...\n",
            "3990  A photographer snaps a midair action shot of a...  ...  1.537384\n",
            "3991  A woman plays in the wind, with a furry brown ...  ...  0.502147\n",
            "3992  A man in a white t-shirt is holding a pair of ...  ...  1.194238\n",
            "3993  Two people are sitting on a rock looking off i...  ...  0.220613\n",
            "3994              A guy waxing a wooden floor with wax.  ...  1.090038\n",
            "\n",
            "[3995 rows x 5 columns]\n",
            "Results saved in a csv file, Cheers.\n"
          ],
          "name": "stdout"
        }
      ]
    }
  ]
}