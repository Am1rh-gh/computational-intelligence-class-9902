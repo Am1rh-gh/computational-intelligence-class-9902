{
  "nbformat": 4,
  "nbformat_minor": 0,
  "metadata": {
    "colab": {
      "name": "semantic-textual-similarity.ipynb",
      "provenance": [],
      "collapsed_sections": []
    },
    "kernelspec": {
      "display_name": "Python 3",
      "name": "python3"
    },
    "language_info": {
      "name": "python"
    }
  },
  "cells": [
    {
      "cell_type": "markdown",
      "metadata": {
        "id": "1DLo8MLMAag5"
      },
      "source": [
        "[![Open In Colab](https://colab.research.google.com/assets/colab-badge.svg)](https://colab.research.google.com/github/farbodnm/computational-intelligence-class-9902/blob/main/G10-Semantic-Textual-Similarity/semantic_textual_similarity.ipynb)"
      ]
    },
    {
      "cell_type": "markdown",
      "metadata": {
        "id": "hQMEf719zpO4"
      },
      "source": [
        "# Clone from github\n",
        "Clones github repo and moves them for imports."
      ]
    },
    {
      "cell_type": "code",
      "metadata": {
        "colab": {
          "base_uri": "https://localhost:8080/"
        },
        "id": "JJlLhRi220MX",
        "outputId": "9f2427f3-596c-4a2f-97f7-a2fd5e758c38"
      },
      "source": [
        "!git clone https://github.com/farbodnm/computational-intelligence-class-9902.git\n",
        "!mv -v /content/computational-intelligence-class-9902/G10-Semantic-Textual-Similarity/* .\n",
        "!rm -R /content/computational-intelligence-class-9902"
      ],
      "execution_count": 1,
      "outputs": [
        {
          "output_type": "stream",
          "text": [
            "Cloning into 'computational-intelligence-class-9902'...\n",
            "remote: Enumerating objects: 312, done.\u001b[K\n",
            "remote: Counting objects: 100% (312/312), done.\u001b[K\n",
            "remote: Compressing objects: 100% (264/264), done.\u001b[K\n",
            "remote: Total 312 (delta 114), reused 78 (delta 29), pack-reused 0\u001b[K\n",
            "Receiving objects: 100% (312/312), 1.98 MiB | 11.77 MiB/s, done.\n",
            "Resolving deltas: 100% (114/114), done.\n",
            "renamed '/content/computational-intelligence-class-9902/G10-Semantic-Textual-Similarity/data' -> './data'\n",
            "renamed '/content/computational-intelligence-class-9902/G10-Semantic-Textual-Similarity/README.md' -> './README.md'\n",
            "renamed '/content/computational-intelligence-class-9902/G10-Semantic-Textual-Similarity/utils' -> './utils'\n"
          ],
          "name": "stdout"
        }
      ]
    },
    {
      "cell_type": "markdown",
      "metadata": {
        "id": "J-N7Nvns0CFr"
      },
      "source": [
        "# Config\n",
        "Our config for the neural network."
      ]
    },
    {
      "cell_type": "code",
      "metadata": {
        "id": "0ezh3YdnmfAT"
      },
      "source": [
        "config = {\n",
        "    'model':{\n",
        "        'name': 'siamese',\n",
        "        'embed_size': 300,\n",
        "        'batch_size': 1,\n",
        "        'fc_dim': 100,\n",
        "        'embed_mode': 'word',\n",
        "        'learning_rate': 0.00001,\n",
        "        'epochs': 10,\n",
        "        'loss_mode': 'mse',\n",
        "        'optimizer_mode': 'sgd',\n",
        "        'encoder':{\n",
        "            'hidden_size': 100,\n",
        "            'num_layers': 1,\n",
        "            'bidirectional': False,\n",
        "            'dropout': 0.0,\n",
        "        },  \n",
        "    },\n",
        "    'embed_path': './embed.pkl'\n",
        "}"
      ],
      "execution_count": 2,
      "outputs": []
    },
    {
      "cell_type": "markdown",
      "metadata": {
        "id": "pK196FAi0mus"
      },
      "source": [
        "# Imports"
      ]
    },
    {
      "cell_type": "code",
      "metadata": {
        "id": "GHJ0z2IbnCPW"
      },
      "source": [
        "import torch\n",
        "from torch.autograd import Variable\n",
        "import torch.nn as nn\n",
        "import torch.nn.functional as F\n",
        "from torch.autograd import Variable\n",
        "import numpy as np\n",
        "\n",
        "from utils.tokenizer import reset_word_embedding, reset_char_embedding, load_wordvec, load_charvec, save_vec, change_weights_of_mother\n",
        "from utils.model import Siamese\n",
        "from utils.vocabulary import vocabulary, add_to_vocabulary\n",
        "from data.prepare_data import Dataset"
      ],
      "execution_count": 3,
      "outputs": []
    },
    {
      "cell_type": "markdown",
      "metadata": {
        "id": "YyAX4C4t0rtJ"
      },
      "source": [
        "# Data processing.\n",
        "First we start by making a vocabulary of the words in all our sentences.\n",
        "\n",
        "\n",
        "> then we make a vector dictionary for our vocabulary.\n",
        "\n",
        "\n",
        "\n"
      ]
    },
    {
      "cell_type": "code",
      "metadata": {
        "colab": {
          "base_uri": "https://localhost:8080/"
        },
        "id": "0h_grIhXtM_U",
        "outputId": "451720f0-b277-4c66-a7c0-e980d9ec3e6f"
      },
      "source": [
        "embed_path = config['embed_path']\n",
        "reset_word_embedding(embed_path)\n",
        "data = Dataset('/content/data/snli_1.0.txt')\n",
        "vocab = vocabulary(data.train_set_pairs())\n",
        "vocab = add_to_vocabulary(data.test_set_pairs(), vocab)\n",
        "vectors = load_wordvec(vocab, embed_path)\n",
        "if len(vectors) == len(vocab):\n",
        "  vocab_size = len(vectors)\n",
        "else:\n",
        "  print('Something is wrong and I can feel it.')"
      ],
      "execution_count": 4,
      "outputs": [
        {
          "output_type": "stream",
          "text": [
            "Dictionary file created.\n",
            "Made a vocabulary of 13023 words.\n",
            "Made a vocabulary with a total of 13446 words.\n",
            "Loaded 1 already embedded words.\n",
            "Added 13446 new words to the embedding.\n",
            "Loaded 13446 words to our current dictionary\n",
            "Embeddings saved\n"
          ],
          "name": "stdout"
        }
      ]
    },
    {
      "cell_type": "markdown",
      "metadata": {
        "id": "keMnMakcEug-"
      },
      "source": [
        "# Make an embedding\n",
        "Make a weight embedding ordered in the same way our vocabulary is."
      ]
    },
    {
      "cell_type": "code",
      "metadata": {
        "id": "uuy2T6yX2cv1"
      },
      "source": [
        "weights = []\n",
        "for word in vocab:\n",
        "    weights.append(vectors[word])\n",
        "embedding = nn.Embedding(vocab_size, config['model']['embed_size'])\n",
        "weights_matrix = torch.from_numpy(np.array(weights)).type(torch.FloatTensor)\n",
        "embedding.weight = nn.Parameter(weights_matrix, requires_grad = False)\n",
        "\n",
        "config['vocab'] = vocab\n",
        "config['embedding'] = embedding"
      ],
      "execution_count": 5,
      "outputs": []
    },
    {
      "cell_type": "markdown",
      "metadata": {
        "id": "SR2pxwuMy9bh"
      },
      "source": [
        "Ready our model, loss and optimizer\n"
      ]
    },
    {
      "cell_type": "code",
      "metadata": {
        "colab": {
          "base_uri": "https://localhost:8080/"
        },
        "id": "Tbdpe_HYFDWH",
        "outputId": "eaa0b5eb-0a5d-4df8-a570-1f33293e6228"
      },
      "source": [
        "siamese = Siamese(config)\n",
        "\n",
        "if config['model']['loss_mode'] == 'cel':\n",
        "  #variable_weight = Variable(torch.FloatTensor([1, 1.125]))\n",
        "  #variable_weight = variable_weight.cuda()\n",
        "  #loss_mode = torch.nn.CrossEntropyLoss(variable_weight)\n",
        "  loss_mode = torch.nn.CrossEntropyLoss()\n",
        "  print('Using CrossEntropyLoss loss,')\n",
        "elif config['model']['loss_mode'] == 'mse':\n",
        "  loss_mode = torch.nn.MSELoss()\n",
        "  print('Using MeanSquaredError loss,')\n",
        "\n",
        "learning_rate = config['model']['learning_rate']\n",
        "if config['model']['optimizer_mode'] == 'sgd':\n",
        "  optimizer = torch.optim.SGD(filter(lambda x: x.requires_grad, siamese.parameters()), lr=learning_rate)\n",
        "  print('and sgd optimizer.')\n",
        "elif config['model']['optimizer_mode'] == 'adam':\n",
        "  optimizer = torch.optim.Adam(filter(lambda x: x.requires_grad, siamese.parameters()), lr=learning_rate)\n",
        "  print('and adam optimizer.')"
      ],
      "execution_count": 6,
      "outputs": [
        {
          "output_type": "stream",
          "text": [
            "Using MeanSquaredError loss,\n",
            "and sgd optimizer.\n"
          ],
          "name": "stdout"
        }
      ]
    },
    {
      "cell_type": "markdown",
      "metadata": {
        "id": "_mKXe1mYzEeS"
      },
      "source": [
        "# Start our training\n",
        "Each epoch we train the model and then use the test dataset to see our progress.\n",
        "\n"
      ]
    },
    {
      "cell_type": "code",
      "metadata": {
        "colab": {
          "base_uri": "https://localhost:8080/"
        },
        "id": "XK8mC7nnkzBq",
        "outputId": "7322fbe6-11f9-494f-a546-ac4904cbcd29"
      },
      "source": [
        "current_epoch = 1\n",
        "epoch_num = config['model']['epochs']\n",
        "\n",
        "train_loss_epochs = []\n",
        "test_loss_epochs = []\n",
        "\n",
        "while current_epoch <= epoch_num:\n",
        "\n",
        "  train_loss = []\n",
        "  train_loss_all = []\n",
        "  test_loss_all = []\n",
        "\n",
        "  print('Starting epoch', current_epoch)\n",
        "\n",
        "  for i in range(int(data.train_set_num())):\n",
        "    sentence1 = data.train_set_pairs()[i][0]\n",
        "    sentence2 = data.train_set_pairs()[i][1]\n",
        "    score = data.train_set_scores()[i]\n",
        "\n",
        "    output = siamese(sentence1, sentence2)\n",
        "\n",
        "    optimizer.zero_grad()\n",
        "\n",
        "    if config['model']['loss_mode'] == 'cel':\n",
        "      if score <= 0.5:\n",
        "        score = torch.tensor([0]).long()\n",
        "      if score > 0.5:\n",
        "        score = torch.tensor([1]).long()\n",
        "      output = output.squeeze(0)\n",
        "\n",
        "    elif config['model']['loss_mode'] == 'mse':\n",
        "      score = Variable(torch.tensor(score).type(torch.FloatTensor))\n",
        "      output = output.squeeze(0).squeeze(0).squeeze(0)\n",
        "\n",
        "    #score = score.cuda()\n",
        "    #output = output.cuda()\n",
        "    \n",
        "    loss = loss_mode(output, score)\n",
        "    loss.backward()\n",
        "    optimizer.step()\n",
        "\n",
        "    train_loss.append(loss.data)\n",
        "    train_loss_all.append(loss.data)\n",
        "    #train_loss.append(loss.data.cpu())\n",
        "    #train_loss_all.append(loss.data.cpu())\n",
        "\n",
        "    if ((i + 1) % 2500) == 0:\n",
        "      print(i + 1, 'sentence pairs done, epoch:', current_epoch, 'and current loss:', np.mean(train_loss))\n",
        "      train_loss = []\n",
        "\n",
        "  for j in range(int(data.test_set_num())):\n",
        "    sentence1 = data.test_set_pairs()[j][0]\n",
        "    sentence2 = data.test_set_pairs()[j][1]\n",
        "    score = data.train_set_scores()[j]\n",
        "\n",
        "    output = siamese(sentence1, sentence2)\n",
        "\n",
        "    optimizer.zero_grad()\n",
        "\n",
        "    if config['model']['loss_mode'] == 'cel':\n",
        "      if score <= 0.5:\n",
        "        score = torch.tensor([0]).long()\n",
        "      if score > 0.5:\n",
        "        score = torch.tensor([1]).long()\n",
        "      output = output.squeeze(0)\n",
        "\n",
        "    elif config['model']['loss_mode'] == 'mse':\n",
        "      score = Variable(torch.tensor(score).type(torch.FloatTensor))\n",
        "      output = output.squeeze(0).squeeze(0).squeeze(0)\n",
        "\n",
        "    #score = score.cuda()\n",
        "    #output = output.cuda()\n",
        "\n",
        "    loss = loss_mode(output, score)\n",
        "\n",
        "    test_loss_all.append(loss.data)\n",
        "    #test_loss_all.append(loss.data.cpu())\n",
        "    \n",
        "  print('Epoch', current_epoch, 'train loss:', np.mean(train_loss_all), 'test loss:', np.mean(test_loss_all))\n",
        "  train_loss_epochs.append(np.mean(train_loss_all))\n",
        "  test_loss_epochs.append(np.mean(test_loss_all))\n",
        "  print()\n",
        "\n",
        "  current_epoch += 1"
      ],
      "execution_count": 7,
      "outputs": [
        {
          "output_type": "stream",
          "text": [
            "Starting epoch 1\n",
            "2500 sentence pairs done, epoch: 1 and current loss: 0.32639435\n",
            "5000 sentence pairs done, epoch: 1 and current loss: 0.27998844\n",
            "7500 sentence pairs done, epoch: 1 and current loss: 0.24354056\n",
            "10000 sentence pairs done, epoch: 1 and current loss: 0.2177415\n",
            "12500 sentence pairs done, epoch: 1 and current loss: 0.19883907\n",
            "15000 sentence pairs done, epoch: 1 and current loss: 0.1891112\n",
            "17500 sentence pairs done, epoch: 1 and current loss: 0.17193526\n",
            "Epoch 1 train loss: 0.23054935 test loss: 0.16990498\n",
            "\n",
            "Starting epoch 2\n",
            "2500 sentence pairs done, epoch: 2 and current loss: 0.1671153\n",
            "5000 sentence pairs done, epoch: 2 and current loss: 0.16424808\n",
            "7500 sentence pairs done, epoch: 2 and current loss: 0.15533654\n",
            "10000 sentence pairs done, epoch: 2 and current loss: 0.15280242\n",
            "12500 sentence pairs done, epoch: 2 and current loss: 0.15105549\n",
            "15000 sentence pairs done, epoch: 2 and current loss: 0.14628604\n",
            "17500 sentence pairs done, epoch: 2 and current loss: 0.14360206\n",
            "Epoch 2 train loss: 0.15401833 test loss: 0.14514817\n",
            "\n",
            "Starting epoch 3\n",
            "2500 sentence pairs done, epoch: 3 and current loss: 0.14631802\n",
            "5000 sentence pairs done, epoch: 3 and current loss: 0.15004449\n",
            "7500 sentence pairs done, epoch: 3 and current loss: 0.14457843\n",
            "10000 sentence pairs done, epoch: 3 and current loss: 0.14525594\n",
            "12500 sentence pairs done, epoch: 3 and current loss: 0.14559259\n",
            "15000 sentence pairs done, epoch: 3 and current loss: 0.14004734\n",
            "17500 sentence pairs done, epoch: 3 and current loss: 0.13973653\n",
            "Epoch 3 train loss: 0.14441825 test loss: 0.1416509\n",
            "\n",
            "Starting epoch 4\n",
            "2500 sentence pairs done, epoch: 4 and current loss: 0.14351901\n",
            "5000 sentence pairs done, epoch: 4 and current loss: 0.14799643\n",
            "7500 sentence pairs done, epoch: 4 and current loss: 0.14313492\n",
            "10000 sentence pairs done, epoch: 4 and current loss: 0.14382567\n",
            "12500 sentence pairs done, epoch: 4 and current loss: 0.14474471\n",
            "15000 sentence pairs done, epoch: 4 and current loss: 0.13854995\n",
            "17500 sentence pairs done, epoch: 4 and current loss: 0.13901602\n",
            "Epoch 4 train loss: 0.14292626 test loss: 0.1411546\n",
            "\n",
            "Starting epoch 5\n",
            "2500 sentence pairs done, epoch: 5 and current loss: 0.14277333\n",
            "5000 sentence pairs done, epoch: 5 and current loss: 0.14744365\n",
            "7500 sentence pairs done, epoch: 5 and current loss: 0.14278325\n",
            "10000 sentence pairs done, epoch: 5 and current loss: 0.14342886\n",
            "12500 sentence pairs done, epoch: 5 and current loss: 0.14455764\n",
            "15000 sentence pairs done, epoch: 5 and current loss: 0.13771722\n",
            "17500 sentence pairs done, epoch: 5 and current loss: 0.13847378\n",
            "Epoch 5 train loss: 0.14241748 test loss: 0.14084041\n",
            "\n",
            "Starting epoch 6\n",
            "2500 sentence pairs done, epoch: 6 and current loss: 0.14241482\n",
            "5000 sentence pairs done, epoch: 6 and current loss: 0.14699946\n",
            "7500 sentence pairs done, epoch: 6 and current loss: 0.14244351\n",
            "10000 sentence pairs done, epoch: 6 and current loss: 0.1432016\n",
            "12500 sentence pairs done, epoch: 6 and current loss: 0.14421996\n",
            "15000 sentence pairs done, epoch: 6 and current loss: 0.13766448\n",
            "17500 sentence pairs done, epoch: 6 and current loss: 0.13828401\n",
            "Epoch 6 train loss: 0.14214209 test loss: 0.14077553\n",
            "\n",
            "Starting epoch 7\n",
            "2500 sentence pairs done, epoch: 7 and current loss: 0.14207657\n",
            "5000 sentence pairs done, epoch: 7 and current loss: 0.14651963\n",
            "7500 sentence pairs done, epoch: 7 and current loss: 0.1422612\n",
            "10000 sentence pairs done, epoch: 7 and current loss: 0.14300197\n",
            "12500 sentence pairs done, epoch: 7 and current loss: 0.14392993\n",
            "15000 sentence pairs done, epoch: 7 and current loss: 0.13736162\n",
            "17500 sentence pairs done, epoch: 7 and current loss: 0.13780369\n",
            "Epoch 7 train loss: 0.14180659 test loss: 0.14080392\n",
            "\n",
            "Starting epoch 8\n",
            "2500 sentence pairs done, epoch: 8 and current loss: 0.14192528\n",
            "5000 sentence pairs done, epoch: 8 and current loss: 0.14619036\n",
            "7500 sentence pairs done, epoch: 8 and current loss: 0.1418028\n",
            "10000 sentence pairs done, epoch: 8 and current loss: 0.1426961\n",
            "12500 sentence pairs done, epoch: 8 and current loss: 0.14365935\n",
            "15000 sentence pairs done, epoch: 8 and current loss: 0.13681813\n",
            "17500 sentence pairs done, epoch: 8 and current loss: 0.1374745\n",
            "Epoch 8 train loss: 0.1414907 test loss: 0.14078656\n",
            "\n",
            "Starting epoch 9\n",
            "2500 sentence pairs done, epoch: 9 and current loss: 0.14165953\n",
            "5000 sentence pairs done, epoch: 9 and current loss: 0.14586228\n",
            "7500 sentence pairs done, epoch: 9 and current loss: 0.14147392\n",
            "10000 sentence pairs done, epoch: 9 and current loss: 0.14221494\n",
            "12500 sentence pairs done, epoch: 9 and current loss: 0.14295052\n",
            "15000 sentence pairs done, epoch: 9 and current loss: 0.13665707\n",
            "17500 sentence pairs done, epoch: 9 and current loss: 0.1371341\n",
            "Epoch 9 train loss: 0.14110538 test loss: 0.14073771\n",
            "\n",
            "Starting epoch 10\n",
            "2500 sentence pairs done, epoch: 10 and current loss: 0.14107789\n",
            "5000 sentence pairs done, epoch: 10 and current loss: 0.14548211\n",
            "7500 sentence pairs done, epoch: 10 and current loss: 0.14135435\n",
            "10000 sentence pairs done, epoch: 10 and current loss: 0.1418379\n",
            "12500 sentence pairs done, epoch: 10 and current loss: 0.14288987\n",
            "15000 sentence pairs done, epoch: 10 and current loss: 0.13626096\n",
            "17500 sentence pairs done, epoch: 10 and current loss: 0.13707963\n",
            "Epoch 10 train loss: 0.14083385 test loss: 0.1403572\n",
            "\n"
          ],
          "name": "stdout"
        }
      ]
    },
    {
      "cell_type": "markdown",
      "metadata": {
        "id": "V9c5gKj_2xlv"
      },
      "source": [
        "And a train and test loss graph."
      ]
    },
    {
      "cell_type": "code",
      "metadata": {
        "id": "qJYohWQL2XFe",
        "colab": {
          "base_uri": "https://localhost:8080/",
          "height": 295
        },
        "outputId": "b093bd52-eb37-4394-8a27-23f9e84a4981"
      },
      "source": [
        "import matplotlib.pyplot as plt\n",
        "\n",
        "plt.title('Loss Graph')\n",
        "plt.xlabel(\"Epochs\")\n",
        "plt.ylabel(\"Loss\")\n",
        "plt.plot(train_loss_epochs, '-.', color =\"blue\")\n",
        "plt.plot(test_loss_epochs, '-.', color =\"red\")\n",
        "plt.legend(['train loss', 'test loss'], loc =\"upper right\")\n",
        "plt.show()"
      ],
      "execution_count": 8,
      "outputs": [
        {
          "output_type": "display_data",
          "data": {
            "image/png": "[encoded data removed]",
            "text/plain": [
              "<Figure size 432x288 with 1 Axes>"
            ]
          },
          "metadata": {
            "tags": [],
            "needs_background": "light"
          }
        }
      ]
    }
  ]
}